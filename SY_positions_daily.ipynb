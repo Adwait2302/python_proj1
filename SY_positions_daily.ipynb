{
  "nbformat": 4,
  "nbformat_minor": 0,
  "metadata": {
    "colab": {
      "provenance": [],
      "authorship_tag": "ABX9TyOJZgCK/ZyRXh9wQ6iaZ2dX",
      "include_colab_link": true
    },
    "kernelspec": {
      "name": "python3",
      "display_name": "Python 3"
    },
    "language_info": {
      "name": "python"
    }
  },
  "cells": [
    {
      "cell_type": "markdown",
      "metadata": {
        "id": "view-in-github",
        "colab_type": "text"
      },
      "source": [
        "<a href=\"https://colab.research.google.com/github/Adwait2302/python_proj1/blob/main/SY_positions_daily.ipynb\" target=\"_parent\"><img src=\"https://colab.research.google.com/assets/colab-badge.svg\" alt=\"Open In Colab\"/></a>"
      ]
    },
    {
      "cell_type": "markdown",
      "source": [
        "Importing required libraries, loading excel files and getting the date."
      ],
      "metadata": {
        "id": "NXxTK7osteCU"
      }
    },
    {
      "cell_type": "code",
      "source": [
        "import pandas as pd\n",
        "from datetime import datetime\n",
        "\n",
        "today = datetime.today().strftime('%d-%m-%y')\n",
        "\n",
        "cme_file = 'SY Positions(CME).xlsx'\n",
        "ice_file = 'SY Positions(ICE).xlsx'"
      ],
      "metadata": {
        "id": "3WFopPQk_u_7"
      },
      "execution_count": null,
      "outputs": []
    },
    {
      "cell_type": "markdown",
      "source": [
        "Preparing the tables for CME product CL, HO, RB. Creating an empty dictionary and updating it with the net outright positions for all the products."
      ],
      "metadata": {
        "id": "fXUlVhbVtxXP"
      }
    },
    {
      "cell_type": "code",
      "source": [
        "acc_data = pd.read_excel(cme_file, sheet_name='Account wise')\n",
        "acc_data = acc_data.drop(columns=['Firm Id',\n",
        "                                  'CC Code',\n",
        "                                  'Put / Call',\n",
        "                                  'Strike',\n",
        "                                  'Underlying Period Code'])\n",
        "\n",
        "prod_name = ['CL', 'HO', 'RB', 'NG']\n",
        "\n",
        "expiry_code = {\n",
        "      'CL' : ['202504', '202505' ,'202506', '202507', '202508', '202509', '202510', '202511', '202512',\n",
        "              '202601', '202602', '202603', '202604', '202605', '202606', '202607', '202608', '202609', '202610', '202611', '202612',\n",
        "              '202701', '202702', '202703', '202704', '202705', '202706', '202707', '202708', '202709', '202710', '202711', '202712',\n",
        "              '202801', '202802', '202803', '202804', '202805', '202806', '202807', '202808', '202809', '202810', '202811', '202812',\n",
        "              '202901', '202902', '202903', '202904', '202905', '202906', '202907', '202908', '202909', '202910', '202911', '202912',\n",
        "              '203001', '203002', '203003', '203004', '203005', '203006', '203007', '203008', '203009', '203010', '203011', '203012',\n",
        "              '203101', '203102', '203103', '203104', '203105', '203106', '203107', '203108', '203109', '203110', '203111', '203112',\n",
        "              '203201', '203202', '203203', '203204', '203205', '203206', '203207', '203208', '203209', '203210', '203211', '203212',\n",
        "              '203301', '203302', '203303'],\n",
        "      'RB' : ['202504', '202505' ,'202506', '202507', '202508', '202509', '202510', '202511', '202512',\n",
        "              '202601', '202602', '202603', '202604', '202605', '202606', '202607', '202608', '202609', '202610', '202611', '202612',\n",
        "              '202701'],\n",
        "      'HO' : ['202504', '202505' ,'202506', '202507', '202508', '202509', '202510', '202511', '202512',\n",
        "              '202601', '202602', '202603', '202604', '202605', '202606', '202607', '202608', '202609', '202610', '202611', '202612',\n",
        "              '202701', '202702', '202703', '202704', '202705', '202706'],\n",
        "      'NG' : ['202504', '202505' ,'202506', '202507', '202508', '202509', '202510', '202511', '202512',\n",
        "              '202601', '202602', '202603', '202604', '202605', '202606', '202607', '202608', '202609', '202610', '202611', '202612',\n",
        "              '202701', '202702', '202703', '202704', '202705', '202706']\n",
        "}\n",
        "\n",
        "net_outright = {}\n",
        "\n",
        "for prod in prod_name:\n",
        "  if prod != 'NG':\n",
        "    df = acc_data[acc_data['Ticker Symbol'].str[0:2].isin([f'{prod}'])]\n",
        "\n",
        "    expiry_df = pd.DataFrame({\"Period Code\" : expiry_code[prod]})\n",
        "    expiry_df['Period Code'] = expiry_df['Period Code'].astype(int)\n",
        "\n",
        "    pivot = df.pivot_table(index='Period Code', columns='Acct Id',\n",
        "                                  values='Net Positions', aggfunc='sum')\n",
        "    merged_pivot = pd.merge(expiry_df, pivot, left_on='Period Code', right_index=True, how='left')\n",
        "\n",
        "    pivot = merged_pivot.fillna(0)\n",
        "    pivot.set_index('Period Code', inplace=True)\n",
        "    pivot = pivot.T\n",
        "\n",
        "    net_outright[prod] = pivot.values.sum()\n",
        "    pivot.iloc[:,0] = pivot.iloc[:,0] - pivot.sum(axis=1)\n",
        "\n",
        "    spread = pivot\n",
        "    for i in range(1, pivot.shape[1]):\n",
        "      for j in range(pivot.shape[0]):\n",
        "        spread.iloc[j, i] = pivot.iloc[j, i]+pivot.iloc[j, i-1]     #Converting outright data into spread data\n",
        "\n",
        "    row_total = spread.sum(axis=1)\n",
        "    grand_total_col = {'Grand Total' : row_total}\n",
        "    spread = pd.concat([pd.DataFrame(grand_total_col), spread], axis=1)     #Adding grand total row to the front\n",
        "\n",
        "    spread.loc[\"Grand Total\"] = spread.sum(axis=0)      # Compute column sums and insert as first row\n",
        "    spread = spread.iloc[[-1] + list(range(len(spread) - 1))]     # Move the new row to the top\n",
        "\n",
        "    sheet_name = f\"{prod}\"  # Create dynamic sheet name\n",
        "\n",
        "    globals()[f'{prod}_df'] = spread.copy()\n",
        "\n",
        "  else:\n",
        "\n",
        "    df = acc_data[acc_data['Ticker Symbol'].str[0:2].isin(['NG', 'HH'])]\n",
        "\n",
        "    expiry_df = pd.DataFrame({\"Period Code\" : expiry_code[prod]})\n",
        "    expiry_df['Period Code'] = expiry_df['Period Code'].astype(int)\n",
        "\n",
        "    pivot = df.pivot_table(index='Period Code', columns='Acct Id',\n",
        "                                  values='Net Positions', aggfunc='sum')\n",
        "    merged_pivot = pd.merge(expiry_df, pivot, left_on='Period Code', right_index=True, how='left')\n",
        "\n",
        "    pivot = merged_pivot.fillna(0)\n",
        "    pivot.set_index('Period Code', inplace=True)\n",
        "    pivot = pivot.T\n",
        "\n",
        "    net_outright[prod] = pivot.values.sum()\n",
        "    pivot.iloc[:,0] = pivot.iloc[:,0] - pivot.sum(axis=1)\n",
        "\n",
        "    spread = pivot\n",
        "    for i in range(1, pivot.shape[1]):\n",
        "      for j in range(pivot.shape[0]):\n",
        "        spread.iloc[j, i] = pivot.iloc[j, i]+pivot.iloc[j, i-1]     #Converting outright data into spread data\n",
        "\n",
        "    row_total = spread.sum(axis=1)\n",
        "    grand_total_col = {'Grand Total' : row_total}\n",
        "    spread = pd.concat([pd.DataFrame(grand_total_col), spread], axis=1)     #Adding grand total row to the front\n",
        "\n",
        "    spread.loc[\"Grand Total\"] = spread.sum(axis=0)      # Compute column sums and insert as first row\n",
        "    spread = spread.iloc[[-1] + list(range(len(spread) - 1))]     # Move the new row to the top\n",
        "\n",
        "    sheet_name = f\"{prod}\"  # Create dynamic sheet name\n",
        "\n",
        "    globals()[f'{prod}_df'] = spread.copy()\n"
      ],
      "metadata": {
        "id": "ncusOuJUsu5y"
      },
      "execution_count": null,
      "outputs": []
    },
    {
      "cell_type": "markdown",
      "source": [
        "Preparing files for ICE products G, SB, KC, CC, C."
      ],
      "metadata": {
        "id": "LTTWx4b6uKRB"
      }
    },
    {
      "cell_type": "code",
      "source": [
        "acc_data = pd.read_excel(ice_file, sheet_name='Account wise')\n",
        "acc_data = acc_data[acc_data['Security Type'] == 'FUT'].copy()\n",
        "acc_data['Expiry Date'] = acc_data['Expiry Date'].astype(str).str[:6].astype(int)\n",
        "\n",
        "acc_data = acc_data.drop(columns=['Exchange Code',\n",
        "                                  'PutOrCall',\n",
        "                                  'Strike Price',\n",
        "                                  'Outright Margin',\n",
        "                                  'Position Type',\n",
        "                                  'Regime',\n",
        "                                  'Customer Type',\n",
        "                                  'Account type'])\n",
        "\n",
        "prod_name = ['G', 'SB', 'KC', 'CC', 'C']\n",
        "\n",
        "### Make sure to update the expiries before running the code ###\n",
        "\n",
        "contract_months = {\n",
        "    'G' : ['202503', '202504', '202505' ,'202506', '202507', '202508', '202509', '202510', '202511', '202512',\n",
        "           '202601', '202602', '202603', '202604', '202605', '202606', '202607', '202608', '202609', '202610', '202611', '202612',\n",
        "           '202701', '202702', '202703', '202704', '202705', '202706', '202707', '202708', '202709', '202710', '202711', '202712',\n",
        "           '202801', '202802', '202803', '202804', '202805', '202806', '202807', '202808', '202809', '202810', '202811', '202812',],\n",
        "    'C' : ['202503', '202505', '202507', '202509', '202512', '202603', '202605', '202607', '202609', '202612'],\n",
        "    'CC' : ['202503', '202505', '202507', '202509', '202512', '202603', '202605', '202607', '202609', '202612'],\n",
        "    'KC' : ['202503', '202505', '202507', '202509', '202512', '202603', '202605', '202607', '202609', '202612', '202703', '202705', '202707', '202709', '202712'],\n",
        "    'SB' : ['202505', '202507', '202510', '202603', '202605', '202607', '202610', '202703', '202705', '202707', '202710']\n",
        "}\n",
        "\n",
        "for prod in prod_name:\n",
        "  expiry_df = pd.DataFrame({\"Expiry Date\" : contract_months[prod]})\n",
        "  expiry_df['Expiry Date'] = expiry_df['Expiry Date'].astype(int)\n",
        "\n",
        "  df = acc_data[acc_data['Exchange Contract Code'] == prod]\n",
        "\n",
        "  pivot = df.pivot_table(index='Expiry Date', columns='Portfolio Name',\n",
        "                            values='Net Position', aggfunc='sum')\n",
        "  merged_pivot = pd.merge(expiry_df, pivot, left_on='Expiry Date', right_index=True, how='left')\n",
        "\n",
        "  pivot = merged_pivot.fillna(0)\n",
        "  pivot.set_index('Expiry Date', inplace=True)\n",
        "  pivot = pivot.T\n",
        "\n",
        "  try:\n",
        "    df = pivot.drop(index=['SY004', 'SY167', 'SY198'])\n",
        "  except:\n",
        "    df = pivot\n",
        "\n",
        "  net_outright[prod] = df.values.sum()\n",
        "  df.iloc[:,0] = df.iloc[:,0]-df.sum(axis=1)      #adjusting for the net ouright\n",
        "\n",
        "  spread = df\n",
        "  for i in range(1, df.shape[1]):\n",
        "    for j in range(df.shape[0]):\n",
        "      spread.iloc[j, i] = df.iloc[j, i]+df.iloc[j, i-1]     #Converting outright data into spread data\n",
        "\n",
        "  row_total = spread.sum(axis=1)\n",
        "  grand_total_col = {'Grand Total' : row_total}\n",
        "  spread = pd.concat([pd.DataFrame(grand_total_col), spread], axis=1)     #Adding grand total row to the front\n",
        "\n",
        "  spread.loc[\"Grand Total\"] = spread.sum(axis=0)      # Compute column sums and insert as first row\n",
        "  spread = spread.iloc[[-1] + list(range(len(spread) - 1))]     # Move the new row to the top\n",
        "\n",
        "  sheet_name = f\"{prod}\"  # Create dynamic sheet name\n",
        "\n",
        "  globals()[f'{prod}_df'] = spread.copy()"
      ],
      "metadata": {
        "id": "fHGD1j9AB6yl"
      },
      "execution_count": null,
      "outputs": []
    },
    {
      "cell_type": "markdown",
      "source": [
        "Gets the BZ data from CME exchange and B data from ICE and creates a combined dataframe containing total Brent positions data."
      ],
      "metadata": {
        "id": "F-sgf_9fuXFH"
      }
    },
    {
      "cell_type": "code",
      "source": [
        "expiry_code = {\n",
        "    'B' : ['202505' ,'202506', '202507', '202508', '202509', '202510', '202511', '202512',\n",
        "            '202601', '202602', '202603', '202604', '202605', '202606', '202607', '202608', '202609', '202610', '202611', '202612',\n",
        "            '202701', '202702', '202703', '202704', '202705', '202706', '202707', '202708', '202709', '202710', '202711', '202712',\n",
        "            '202801', '202802', '202803', '202804', '202805', '202806', '202807', '202808', '202809', '202810', '202811', '202812',\n",
        "            '202901', '202902', '202903', '202904', '202905', '202906', '202907', '202908', '202909', '202910', '202911', '202912',\n",
        "            '203001', '203002', '203003', '203004', '203005', '203006', '203007', '203008', '203009', '203010', '203011', '203012',\n",
        "            '203101', '203102', '203103', '203104', '203105', '203106', '203107', '203108', '203109', '203110', '203111', '203112',\n",
        "            '203201', '203202', '203203', '203204', '203205', '203206', '203207', '203208', '203209', '203210', '203211', '203212',\n",
        "            '203301', '203302', '203303']\n",
        "}\n",
        "\n",
        "acc_data = pd.read_excel(cme_file, sheet_name='Account wise')\n",
        "acc_data = acc_data.drop(columns=['Firm Id',\n",
        "                                  'CC Code',\n",
        "                                  'Put / Call',\n",
        "                                  'Strike',\n",
        "                                  'Underlying Period Code'])\n",
        "\n",
        "df = acc_data[acc_data['Ticker Symbol'].str[0:2].isin(['BZ'])]\n",
        "\n",
        "expiry_df = pd.DataFrame({\"Period Code\" : expiry_code['B']})\n",
        "expiry_df['Period Code'] = expiry_df['Period Code'].astype(int)\n",
        "\n",
        "pivot = df.pivot_table(index='Period Code', columns='Acct Id',\n",
        "                              values='Net Positions', aggfunc='sum')\n",
        "merged_pivot = pd.merge(expiry_df, pivot, left_on='Period Code', right_index=True, how='left')\n",
        "\n",
        "acc_data = pd.read_excel(ice_file, sheet_name='Account wise')\n",
        "acc_data = acc_data[acc_data['Security Type'] == 'FUT'].copy()\n",
        "acc_data['Expiry Date'] = acc_data['Expiry Date'].astype(str).str[:6].astype(int)\n",
        "\n",
        "acc_data = acc_data.drop(columns=['Exchange Code',\n",
        "                                  'PutOrCall',\n",
        "                                  'Strike Price',\n",
        "                                  'Outright Margin',\n",
        "                                  'Position Type',\n",
        "                                  'Regime',\n",
        "                                  'Customer Type',\n",
        "                                  'Account type'])\n",
        "\n",
        "df = acc_data[acc_data['Exchange Contract Code'] == 'B']\n",
        "\n",
        "pivot = df.pivot_table(index='Expiry Date', columns='Portfolio Name',\n",
        "                          values='Net Position', aggfunc='sum')\n",
        "pivot.rename_axis(\"Period Code\", inplace=True)\n",
        "merged_pivot = pd.merge(merged_pivot, pivot, left_on='Period Code', right_index=True, how='left')\n",
        "\n",
        "pivot = merged_pivot.fillna(0)\n",
        "pivot.set_index('Period Code', inplace=True)\n",
        "pivot = pivot.T\n",
        "\n",
        "try:\n",
        "    df = pivot.drop(index=['SY004', 'SY167', 'SY198'])\n",
        "except:\n",
        "  df = pivot\n",
        "\n",
        "net_outright['B'] = df.values.sum()\n",
        "df.iloc[:,0] = df.iloc[:,0] -df .sum(axis=1)      #adjusting for the net ouright\n",
        "\n",
        "spread = df\n",
        "for i in range(1, df.shape[1]):\n",
        "  for j in range(df.shape[0]):\n",
        "    spread.iloc[j, i] = df.iloc[j, i]+df.iloc[j, i-1]     #Converting outright data into spread data\n",
        "\n",
        "row_total = spread.sum(axis=1)\n",
        "grand_total_col = {'Grand Total' : row_total}\n",
        "spread = pd.concat([pd.DataFrame(grand_total_col), spread], axis=1)     #Adding grand total row to the front\n",
        "\n",
        "spread.loc[\"Grand Total\"] = spread.sum(axis=0)      # Compute column sums and insert as first row\n",
        "spread = spread.iloc[[-1] + list(range(len(spread) - 1))]     # Move the new row to the top\n",
        "\n",
        "B_df = spread"
      ],
      "metadata": {
        "id": "Y9Hu19D7C6p3"
      },
      "execution_count": null,
      "outputs": []
    },
    {
      "cell_type": "markdown",
      "source": [
        "Getting net outright and net spread positions."
      ],
      "metadata": {
        "id": "7xBbd2s241wd"
      }
    },
    {
      "cell_type": "code",
      "source": [
        "net_spread = {}\n",
        "\n",
        "df_dict = {\n",
        "      'CL' : CL_df,\n",
        "      'B' : B_df,\n",
        "      'G': G_df,\n",
        "      'HO' : HO_df,\n",
        "      'RB' : RB_df,\n",
        "      'NG' : NG_df,\n",
        "      'SB': SB_df,\n",
        "      'KC': KC_df,\n",
        "      'CC': CC_df,\n",
        "      'C': C_df\n",
        "}\n",
        "\n",
        "for key in net_outright.keys():\n",
        "    if key in df_dict:  # Ensure the key exists in the dictionary\n",
        "        net_spread[key] = df_dict[key].iloc[0, 0]  # Access first row, first column\n",
        "\n",
        "net_pos = pd.DataFrame({key: (net_outright[key], net_spread[key]) for key in net_outright}).T\n",
        "net_pos.columns = ['Net Outright', 'Net Spread']\n",
        "net_pos = net_pos.reindex(['CL', 'B', 'G', 'HO', 'RB', 'NG', 'SB', 'KC', 'CC', 'C'])\n",
        "\n",
        "net_pos"
      ],
      "metadata": {
        "id": "IifLv3eXxDMs"
      },
      "execution_count": null,
      "outputs": []
    },
    {
      "cell_type": "markdown",
      "source": [
        "Downloading the dataframes into excel file"
      ],
      "metadata": {
        "id": "_ff6ftjx3Oyv"
      }
    },
    {
      "cell_type": "code",
      "source": [
        "file_name = f'Futures Positions {today}.xlsx'\n",
        "\n",
        "with pd.ExcelWriter(file_name, engine='openpyxl') as writer:\n",
        "  for prod, df in df_dict.items():\n",
        "      df.to_excel(writer, sheet_name=f\"{prod}\", index=True)"
      ],
      "metadata": {
        "id": "rkwGriGPyCZe"
      },
      "execution_count": null,
      "outputs": []
    }
  ]
}