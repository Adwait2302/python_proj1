{
 "cells": [
  {
   "cell_type": "markdown",
   "id": "f80cf942",
   "metadata": {},
   "source": [
    "# Analysing returns of automobile companies \n",
    "\n",
    "### Companies analysed:\n",
    "Bajaj Auto, Eicher Motors, Tata Motors, Maruti Suzuki, Mahindra & Mahindra\n",
    "\n",
    "### Ratios used:\n",
    "sharpe ratio, sortino ratio\n",
    "\n",
    "### Lookback period:\n",
    "June 2021 to May 2022"
   ]
  },
  {
   "cell_type": "code",
   "execution_count": 1,
   "id": "830af36e",
   "metadata": {},
   "outputs": [],
   "source": [
    "import pandas as pd\n",
    "import numpy as np\n",
    "import pandas_datareader.data as web\n",
    "from tabulate import tabulate\n",
    "import matplotlib.pyplot as plt\n",
    "\n",
    "# data=web.DataReader(['AAPL','BAJAJ-AUTO.BO','MARUTI.BO','EICHERMOT.BO','M&M.BO','TATAMOTORS.BO'], data_source='yahoo', start='2021-6-1', end='2022-5-31')['Adj Close']\n",
    "# print(data)\n",
    "\n",
    "def sharpe_ratio(stocks, stdt, endt, rfr):\n",
    "    data=pd.DataFrame()\n",
    "    returns=pd.DataFrame()\n",
    "    sharpe=list()\n",
    "    for company in stocks:\n",
    "        data[company]=web.DataReader(company, data_source='yahoo', start=stdt, end=endt)['Adj Close'] '''getting stock data'''\n",
    "        returns[company]=data[company].pct_change()                                                   '''daily return'''\n",
    "        company_nr=(data[company][-1]/data[company][0])-1                                             '''net return over the period'''\n",
    "        std_dev_company=returns[company].std()*np.sqrt(252)                                           '''standard deviation'''\n",
    "        sharpe_company=(company_nr-rfr)/std_dev_company                                               '''getting the ratio'''\n",
    "        sharpe.append(sharpe_company)\n",
    "        \n",
    "    return sharpe\n",
    "\n",
    "def sortino_ratio(stocks, stdt, endt, rfr):\n",
    "    data=pd.DataFrame()\n",
    "    data=web.DataReader(stocks, data_source='yahoo', start=stdt, end=endt)['Adj Close']\n",
    "    sortino=list()\n",
    "    for i in stocks:\n",
    "        data['daily_return_'+i]=data[i].pct_change()                       '''gettning daily return'''\n",
    "        data['dd_'+i]=data[data['daily_return_'+i]<0]['daily_return_'+i]   '''filtering the downside deviation data'''\n",
    "        return_i=np.prod(data['daily_return_'+i]+1)-1                      '''calculating return'''\n",
    "        dd_i=data['dd_'+i].std()*np.sqrt(252)                              '''downside deviation'''\n",
    "        sortino_i=(return_i-rfr/100)/dd_i                                  '''getting the ratio'''\n",
    "        sortino.append(sortino_i)\n",
    "    \n",
    "    return sortino\n",
    "        \n",
    "    \n",
    "#         print(tabulate\n",
    "#              ([\n",
    "#                  ['Stock', 'Net Return(%)', 'Standard Deviation(%)', 'Sharpe Ratio'],\n",
    "#                  [company, round(company_nr,4)*100, round(std_dev_company,4)*100, sharpe_company]\n",
    "#               ],\n",
    "#               headers='firstrow')\n",
    "#              )\n",
    "#         print('\\n')"
   ]
  },
  {
   "cell_type": "markdown",
   "id": "22ea7a67",
   "metadata": {},
   "source": [
    "#### Taking risk free rate as 4.40% (SBI FD rate for 1 year) for convinience "
   ]
  },
  {
   "cell_type": "code",
   "execution_count": 2,
   "id": "0533912a",
   "metadata": {},
   "outputs": [],
   "source": [
    "stock=['BAJAJ-AUTO.BO','MARUTI.BO','EICHERMOT.BO','M&M.BO','TATAMOTORS.BO']"
   ]
  },
  {
   "cell_type": "code",
   "execution_count": 3,
   "id": "6acd30bc",
   "metadata": {
    "scrolled": true
   },
   "outputs": [],
   "source": [
    "sharpe=sharpe_ratio(stock, '2021-6-1', '2022-5-31', 0.0440)\n"
   ]
  },
  {
   "cell_type": "code",
   "execution_count": 4,
   "id": "29a0ca7d",
   "metadata": {},
   "outputs": [],
   "source": [
    "sortino=sortino_ratio(stock, '2021-6-1', '2022-5-31', 0.0440)"
   ]
  },
  {
   "cell_type": "code",
   "execution_count": 5,
   "id": "399e2327",
   "metadata": {},
   "outputs": [
    {
     "data": {
      "text/plain": [
       "<function matplotlib.pyplot.show(close=None, block=None)>"
      ]
     },
     "execution_count": 5,
     "metadata": {},
     "output_type": "execute_result"
    },
    {
     "data": {
      "image/png": "[encoded data removed]",
      "text/plain": [
       "<Figure size 432x288 with 1 Axes>"
      ]
     },
     "metadata": {
      "needs_background": "light"
     },
     "output_type": "display_data"
    }
   ],
   "source": [
    "w=0.3\n",
    "bar1=np.arange(len(stock))\n",
    "bar2=[i+w for i in bar1]\n",
    "\n",
    "plt.bar(bar1, sharpe, w, label='sharpe')\n",
    "plt.bar(bar2, sortino, w, label='sortino')\n",
    "\n",
    "plt.xticks(bar1+w/2, stock)\n",
    "plt.xlabel('Companies')\n",
    "plt.ylabel('Values')\n",
    "plt.title('Sharpe & Sortino Ratios')\n",
    "plt.legend() \n",
    "\n",
    "plt.show"
   ]
  },
  {
   "cell_type": "code",
   "execution_count": null,
   "id": "85a73d55",
   "metadata": {},
   "outputs": [],
   "source": []
  }
 ],
 "metadata": {
  "kernelspec": {
   "display_name": "Python 3 (ipykernel)",
   "language": "python",
   "name": "python3"
  },
  "language_info": {
   "codemirror_mode": {
    "name": "ipython",
    "version": 3
   },
   "file_extension": ".py",
   "mimetype": "text/x-python",
   "name": "python",
   "nbconvert_exporter": "python",
   "pygments_lexer": "ipython3",
   "version": "3.9.12"
  }
 },
 "nbformat": 4,
 "nbformat_minor": 5
}
